{
 "cells": [
  {
   "cell_type": "code",
   "execution_count": 1,
   "metadata": {},
   "outputs": [],
   "source": [
    "import (\n",
    "\t\"fmt\"\n",
    "\t\"github.com/kniren/gota/dataframe\"\n",
    "\t\"io/ioutil\"\n",
    "\t\"strconv\"\n",
    "\t\"strings\"\n",
    ")"
   ]
  },
  {
   "cell_type": "code",
   "execution_count": 2,
   "metadata": {},
   "outputs": [],
   "source": [
    "type Pair struct {\n",
    "\tPhrase string\n",
    "\tFrequency int\n",
    "}"
   ]
  },
  {
   "cell_type": "code",
   "execution_count": 3,
   "metadata": {},
   "outputs": [],
   "source": [
    "func pairsAndFilters(splitPairs []string) ([]Pair, map[string]bool) {\n",
    "\tvar (\n",
    "\t\tpairs []Pair\n",
    "\t\tm map[string]bool\n",
    "\t)\n",
    "\tm = make(map[string]bool)\n",
    "\tfor _, pair := range splitPairs {\n",
    "\t\tp := strings.Split(pair, \":\")\n",
    "\t\tphrase := p[0]\n",
    "\t\tm[phrase] = true\n",
    "\t\tif len(p) < 2 {\n",
    "\t\t\tcontinue\n",
    "\t\t}\n",
    "\t\tfreq, err := strconv.Atoi(p[1])\n",
    "\t\tif err != nil {\n",
    "\t\t\tcontinue\n",
    "\t\t}\n",
    "\t\tpairs = append(pairs, Pair{\n",
    "\t\t\tPhrase: phrase,\n",
    "\t\t\tFrequency: freq,\n",
    "\t\t})\n",
    "\t}\n",
    "\treturn pairs, m\n",
    "}\n"
   ]
  },
  {
   "cell_type": "code",
   "execution_count": 4,
   "metadata": {},
   "outputs": [],
   "source": [
    "func exclude(pairs []Pair, exclusions map[string]bool) []Pair {\n",
    "\tvar ret []Pair\n",
    "\tfor i := range pairs {\n",
    "\t\tif !exclusions[pairs[i].Phrase] {\n",
    "\t\t\tret = append(ret, pairs[i])\n",
    "\t\t}\n",
    "\t}\n",
    "\treturn ret\n",
    "}"
   ]
  },
  {
   "cell_type": "code",
   "execution_count": 5,
   "metadata": {},
   "outputs": [
    {
     "name": "stdout",
     "output_type": "stream",
     "text": [
      "[46383x2] DataFrame\n",
      "\n",
      "    Phrase       Frequency\n",
      " 0: tic-tac-toe  10       \n",
      " 1: wusthoff     7        \n",
      " 2: emperor      7        \n",
      " 3: shot_glasses 6        \n",
      " 4: pulp         6        \n",
      " 5: games        6        \n",
      " 6: sentry       6        \n",
      " 7: gravel       6        \n",
      " 8: the_emperor  5        \n",
      " 9: aebleskivers 5        \n",
      "    ...          ...      \n",
      "    <string>     <int>    \n",
      "\n",
      "[45760x2] DataFrame\n",
      "\n",
      "    Phrase          Frequency\n",
      " 0: seeds           9        \n",
      " 1: perculator      7        \n",
      " 2: probes          7        \n",
      " 3: cork            7        \n",
      " 4: coffee_tank     5        \n",
      " 5: brookstone      5        \n",
      " 6: convection_oven 5        \n",
      " 7: black_goo       5        \n",
      " 8: waring_pro      5        \n",
      " 9: packs           5        \n",
      "    ...             ...      \n",
      "    <string>        <int>    \n",
      "\n"
     ]
    },
    {
     "data": {
      "text/plain": [
       "412 <nil>"
      ]
     },
     "execution_count": 5,
     "metadata": {},
     "output_type": "execute_result"
    }
   ],
   "source": [
    "\tconst kitchenReviews = \"./datasets/words/kitchen\"\n",
    "\tpositives, err := ioutil.ReadFile(kitchenReviews + \"/positive.review\")\n",
    "\tnegatives, err2 := ioutil.ReadFile(kitchenReviews + \"/negative.review\")\n",
    "\tif err != nil || err2 != nil {\n",
    "\t\tfmt.Println(\"Error(s)\", err, err2)\n",
    "\t}\n",
    "\n",
    "\tpairsPositive := strings.Fields(string(positives))\n",
    "\tpairsNegative := strings.Fields(string(negatives))\n",
    "\n",
    "\tparsedPositives, posPhrases := pairsAndFilters(pairsPositive)\n",
    "\tparsedNegatives, negPhrases := pairsAndFilters(pairsNegative)\n",
    "\tparsedPositives = exclude(parsedPositives, negPhrases)\n",
    "\tparsedNegatives = exclude(parsedNegatives, posPhrases)\n",
    "\n",
    "\tdfPos := dataframe.LoadStructs(parsedPositives)\n",
    "\tdfNeg := dataframe.LoadStructs(parsedNegatives)\n",
    "\n",
    "\tdfPos = dfPos.Arrange(dataframe.RevSort(\"Frequency\"))\n",
    "\tdfNeg = dfNeg.Arrange(dataframe.RevSort(\"Frequency\"))\n",
    "\n",
    "\tfmt.Println(dfPos)\n",
    "\tfmt.Println(dfNeg)\n"
   ]
  },
  {
   "cell_type": "code",
   "execution_count": 6,
   "metadata": {},
   "outputs": [],
   "source": [
    "import \"bytes\"\n",
    "path := \"./datasets/bmi/500_Person_Gender_Height_Weight_Index.csv\"\n",
    "b, err := ioutil.ReadFile(path)\n",
    "if err != nil {\n",
    "    fmt.Println(\"Error!\", err)\n",
    "}\n",
    "df := dataframe.ReadCSV(bytes.NewReader(b))"
   ]
  },
  {
   "cell_type": "code",
   "execution_count": 7,
   "metadata": {},
   "outputs": [
    {
     "data": {
      "text/plain": [
       "[500x4] DataFrame\n",
       "\n",
       "    Gender   Height Weight Index\n",
       " 0: Male     174    96     4    \n",
       " 1: Male     189    87     2    \n",
       " 2: Female   185    110    4    \n",
       " 3: Female   195    104    3    \n",
       " 4: Male     149    61     3    \n",
       " 5: Male     189    104    3    \n",
       " 6: Male     147    92     5    \n",
       " 7: Male     154    111    5    \n",
       " 8: Male     174    90     3    \n",
       " 9: Female   169    103    4    \n",
       "    ...      ...    ...    ...  \n",
       "    <string> <int>  <int>  <int>\n"
      ]
     },
     "execution_count": 7,
     "metadata": {},
     "output_type": "execute_result"
    }
   ],
   "source": [
    "df"
   ]
  },
  {
   "cell_type": "code",
   "execution_count": 8,
   "metadata": {},
   "outputs": [
    {
     "name": "stdout",
     "output_type": "stream",
     "text": [
      "Minimum 140\n",
      "Maximum 199\n",
      "Mean 169.944\n",
      "Median 170\n"
     ]
    },
    {
     "data": {
      "text/plain": [
       "11 <nil>"
      ]
     },
     "execution_count": 8,
     "metadata": {},
     "output_type": "execute_result"
    }
   ],
   "source": [
    "fmt.Println(\"Minimum\", df.Col(\"Height\").Min())\n",
    "fmt.Println(\"Maximum\", df.Col(\"Height\").Max())\n",
    "fmt.Println(\"Mean\", df.Col(\"Height\").Mean())\n",
    "fmt.Println(\"Median\", df.Col(\"Height\").Quantile(0.5))"
   ]
  },
  {
   "cell_type": "code",
   "execution_count": 9,
   "metadata": {},
   "outputs": [
    {
     "data": {
      "text/plain": [
       "[7x5] DataFrame\n",
       "\n",
       "    column   Gender   Height     Weight     Index   \n",
       " 0: mean     -        169.944000 106.000000 3.748000\n",
       " 1: stddev   -        16.375261  32.382607  1.355053\n",
       " 2: min      Female   140.000000 50.000000  0.000000\n",
       " 3: 25%      -        156.000000 80.000000  3.000000\n",
       " 4: 50%      -        170.000000 106.000000 4.000000\n",
       " 5: 75%      -        184.000000 136.000000 5.000000\n",
       " 6: max      Male     199.000000 160.000000 5.000000\n",
       "    <string> <string> <float>    <float>    <float> \n"
      ]
     },
     "execution_count": 9,
     "metadata": {},
     "output_type": "execute_result"
    }
   ],
   "source": [
    "df.Describe()"
   ]
  },
  {
   "cell_type": "code",
   "execution_count": 10,
   "metadata": {},
   "outputs": [],
   "source": [
    "import \"gonum.org/v1/plot/plotter\"\n",
    "import \"gonum.org/v1/plot\"\n",
    "import \"gonum.org/v1/plot/vg\"\n",
    "import \"bufio\""
   ]
  },
  {
   "cell_type": "code",
   "execution_count": 11,
   "metadata": {},
   "outputs": [],
   "source": [
    "func SeriesToPlotValues(df dataframe.DataFrame, col string) plotter.Values {\n",
    "\trows, _ := df.Dims()\n",
    "\tv := make(plotter.Values, rows)\n",
    "\ts := df.Col(col)\n",
    "\tfor i := 0; i < rows; i++ {\n",
    "\tv[i] = s.Elem(i).Float()\n",
    "\t}\n",
    "\treturn v\n",
    "}\n",
    "\n",
    "func HistogramData(v plotter.Values, title string) []byte {\n",
    "\t// Make a plot and set its title.\n",
    "\tp, err := plot.New()\n",
    "\tif err != nil {\n",
    "\t\tpanic(err)\n",
    "\t}\n",
    "\tp.Title.Text = title\n",
    "\th, err := plotter.NewHist(v, 10)\n",
    "\tif err != nil {\n",
    "\t\tpanic(err)\n",
    "\t}\n",
    "\t//h.Normalize(1) // Uncomment to normalize the area under the histogram to 1\n",
    "\tp.Add(h)\n",
    "\tw, err := p.WriterTo(5*vg.Inch, 4*vg.Inch, \"jpg\")\n",
    "\tif err != nil {\n",
    "\t\tpanic(err)\n",
    "\t}\n",
    "\tvar b bytes.Buffer\n",
    "\twriter := bufio.NewWriter(&b)\n",
    "\tw.WriteTo(writer)\n",
    "\treturn b.Bytes()\n",
    "}\n"
   ]
  },
  {
   "cell_type": "code",
   "execution_count": 12,
   "metadata": {},
   "outputs": [
    {
     "data": {
      "image/jpeg": "[encoded data removed]",
      "text/plain": [
       "image/jpeg"
      ]
     },
     "execution_count": 12,
     "metadata": {},
     "output_type": "execute_result"
    }
   ],
   "source": [
    "display.JPEG(HistogramData(SeriesToPlotValues(df, \"Height\"), \"Height Histogram\"))"
   ]
  },
  {
   "cell_type": "code",
   "execution_count": null,
   "metadata": {},
   "outputs": [],
   "source": []
  }
 ],
 "metadata": {
  "kernelspec": {
   "display_name": "Go",
   "language": "go",
   "name": "gophernotes"
  },
  "language_info": {
   "codemirror_mode": "",
   "file_extension": ".go",
   "mimetype": "",
   "name": "go",
   "nbconvert_exporter": "",
   "pygments_lexer": "",
   "version": "go1.11.4"
  }
 },
 "nbformat": 4,
 "nbformat_minor": 2
}
